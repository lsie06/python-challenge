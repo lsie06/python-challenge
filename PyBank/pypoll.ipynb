{
 "cells": [
  {
   "cell_type": "code",
   "execution_count": 71,
   "id": "3a389d3c",
   "metadata": {},
   "outputs": [
    {
     "name": "stdout",
     "output_type": "stream",
     "text": [
      "369711\n",
      "Election Results\n",
      "\n",
      "--------------------------------------\n",
      "Total votes 369711\n",
      "\n",
      "--------------------------------------\n",
      "\n",
      "Charles Casper Stockham: 23.049% (85213)\n",
      "Diana DeGette: 73.812% (272892)\n",
      "Raymon Anthony Doane: 3.139% (11606)\n",
      "--------------------------------------\n",
      "\n"
     ]
    }
   ],
   "source": [
    "import csv \n",
    "\n",
    "with open('election_data.csv', 'r') as file: \n",
    "    csv_reader = csv.reader(file)\n",
    "    next(file)\n",
    "    \n",
    "# Variables     \n",
    "    votes = 0\n",
    "    candidates = []\n",
    "    candidate_votes ={}\n",
    "    \n",
    "    \n",
    "# Start Coding \n",
    "    for row in csv_reader:\n",
    "        votes = votes + 1\n",
    "#         print(row)\n",
    "        county = row [1]\n",
    "        candidate = row[2]\n",
    "        if candidate not in candidates:\n",
    "            candidates.append(candidate)\n",
    "            candidate_votes[candidate] = 1\n",
    "        else: \n",
    "            candidate_votes[candidate] = candidate_votes[candidate] + 1 \n",
    "            \n",
    "\n",
    "# # Start Output             \n",
    "print(votes)\n",
    "\n",
    "         \n",
    "\n",
    "\n",
    "print(\"Election Results\")\n",
    "print()\n",
    "print(\"--------------------------------------\")\n",
    "print(f\"Total votes {votes}\")\n",
    "print()\n",
    "print(\"--------------------------------------\")\n",
    "print()\n",
    "for candidate in candidate_votes: \n",
    "    print(f\"{candidate}: {round(100*candidate_votes[candidate]/votes,3)}% ({candidate_votes[candidate]})\") \n",
    "print(\"--------------------------------------\")\n",
    "print()\n"
   ]
  },
  {
   "cell_type": "code",
   "execution_count": 48,
   "id": "fd20e808",
   "metadata": {
    "scrolled": false
   },
   "outputs": [
    {
     "data": {
      "text/plain": [
       "'C:\\\\Users\\\\sierr\\\\OneDrive\\\\Desktop\\\\Data Analytics Assignments\\\\3. Module 3 Challenge\\\\PyBank'"
      ]
     },
     "execution_count": 48,
     "metadata": {},
     "output_type": "execute_result"
    }
   ],
   "source": [
    "import os \n",
    "os.getcwd()"
   ]
  },
  {
   "cell_type": "code",
   "execution_count": null,
   "id": "65c3add1",
   "metadata": {},
   "outputs": [],
   "source": []
  },
  {
   "cell_type": "code",
   "execution_count": null,
   "id": "4c762d66",
   "metadata": {},
   "outputs": [],
   "source": []
  }
 ],
 "metadata": {
  "kernelspec": {
   "display_name": "Python 3 (ipykernel)",
   "language": "python",
   "name": "python3"
  },
  "language_info": {
   "codemirror_mode": {
    "name": "ipython",
    "version": 3
   },
   "file_extension": ".py",
   "mimetype": "text/x-python",
   "name": "python",
   "nbconvert_exporter": "python",
   "pygments_lexer": "ipython3",
   "version": "3.10.11"
  }
 },
 "nbformat": 4,
 "nbformat_minor": 5
}
