{
 "cells": [
  {
   "cell_type": "code",
   "execution_count": 9,
   "id": "3a389d3c",
   "metadata": {},
   "outputs": [
    {
     "name": "stdout",
     "output_type": "stream",
     "text": [
      "Financial Analysis\n",
      "\n",
      "--------------------------------------\n",
      "\n",
      "Total Months: 86 \n",
      "\n",
      "Total Profit: $22564198\n",
      "\n",
      "Average Change: $-8311.11\n",
      "\n",
      "Greatest Increase in Profits: Aug-16 ($1862002)\n",
      "\n",
      "Greatest Decrease in Profits: Feb-14 ($-1825558)\n"
     ]
    }
   ],
   "source": [
    "import csv\n",
    "\n",
    "with open('budget_data.csv', 'r') as file:\n",
    "    csv_reader = csv.reader(file)\n",
    "    next(file)\n",
    "#Variables \n",
    "    lines = 0\n",
    "    total_profit = 0\n",
    "    total_change = 0\n",
    "    max_change = 0\n",
    "    max_change_date = \"\"\n",
    "    min_change = 0\n",
    "    min_change_date = \"\"\n",
    "    \n",
    "#Start Coding \n",
    "    for row in csv_reader:\n",
    "        lines = lines + 1\n",
    "        month_year = row[0]\n",
    "        profit = row[1]\n",
    "        profit = int(profit)\n",
    "        total_profit = total_profit + profit\n",
    "        if lines > 1:\n",
    "            change = profit - previous_profit\n",
    "            total_change = total_change + change\n",
    "            # print(\"profit, previous_profit, change\", profit, previous_profit, change)\n",
    "            if change > max_change:\n",
    "                max_change = change\n",
    "                max_change_date = month_year\n",
    "            if change < min_change:\n",
    "                min_change = change\n",
    "                min_change_date = month_year\n",
    "        previous_profit = profit\n",
    "\n",
    "#Start Output         \n",
    "print(\"Financial Analysis\")\n",
    "print()\n",
    "print(\"--------------------------------------\")\n",
    "print()\n",
    "print(f\"Total Months: {lines} \")\n",
    "print()\n",
    "print(f\"Total Profit: ${total_profit}\")\n",
    "print()\n",
    "average_change = total_change/(lines - 1)\n",
    "print(f\"Average Change: ${round(average_change,2)}\")\n",
    "print()\n",
    "print(f\"Greatest Increase in Profits: {max_change_date} (${max_change})\")\n",
    "print()\n",
    "print(f\"Greatest Decrease in Profits: {min_change_date} (${min_change})\")\n",
    "\n"
   ]
  },
  {
   "cell_type": "code",
   "execution_count": 3,
   "id": "fd20e808",
   "metadata": {},
   "outputs": [
    {
     "data": {
      "text/plain": [
       "'C:\\\\Users\\\\sierr\\\\OneDrive\\\\Desktop\\\\Data Analytics Assignments\\\\3. Module 3 Challenge\\\\PyBank'"
      ]
     },
     "execution_count": 3,
     "metadata": {},
     "output_type": "execute_result"
    }
   ],
   "source": [
    "import os \n",
    "os.getcwd()"
   ]
  },
  {
   "cell_type": "code",
   "execution_count": null,
   "id": "23eab419",
   "metadata": {},
   "outputs": [],
   "source": []
  },
  {
   "cell_type": "code",
   "execution_count": null,
   "id": "0f82624d",
   "metadata": {},
   "outputs": [],
   "source": []
  }
 ],
 "metadata": {
  "kernelspec": {
   "display_name": "Python 3 (ipykernel)",
   "language": "python",
   "name": "python3"
  },
  "language_info": {
   "codemirror_mode": {
    "name": "ipython",
    "version": 3
   },
   "file_extension": ".py",
   "mimetype": "text/x-python",
   "name": "python",
   "nbconvert_exporter": "python",
   "pygments_lexer": "ipython3",
   "version": "3.10.11"
  }
 },
 "nbformat": 4,
 "nbformat_minor": 5
}
